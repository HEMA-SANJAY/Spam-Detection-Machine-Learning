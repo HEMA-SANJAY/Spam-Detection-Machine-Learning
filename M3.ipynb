{
 "cells": [
  {
   "cell_type": "markdown",
   "metadata": {},
   "source": [
    "# Performance measurements of ML algorithms (Supervised)"
   ]
  },
  {
   "cell_type": "code",
   "execution_count": 29,
   "metadata": {},
   "outputs": [],
   "source": [
    "#import library packages\n",
    "import pandas as p\n",
    "import numpy as n"
   ]
  },
  {
   "cell_type": "code",
   "execution_count": 30,
   "metadata": {},
   "outputs": [],
   "source": [
    "import warnings\n",
    "warnings.filterwarnings(\"ignore\") "
   ]
  },
  {
   "cell_type": "code",
   "execution_count": 31,
   "metadata": {},
   "outputs": [],
   "source": [
    "#Load given dataset\n",
    "data = p.read_csv('data.csv')\n",
    "df=data.dropna()"
   ]
  },
  {
   "cell_type": "code",
   "execution_count": 32,
   "metadata": {},
   "outputs": [
    {
     "data": {
      "text/plain": [
       "Index(['email', 'label'], dtype='object')"
      ]
     },
     "execution_count": 32,
     "metadata": {},
     "output_type": "execute_result"
    }
   ],
   "source": [
    "df.columns"
   ]
  },
  {
   "cell_type": "code",
   "execution_count": 33,
   "metadata": {},
   "outputs": [],
   "source": [
    "from sklearn.preprocessing import LabelEncoder\n",
    "var_mod = ['email', 'label']\n",
    "le = LabelEncoder()\n",
    "for i in var_mod:\n",
    "    df[i] = le.fit_transform(df[i]).astype(int)"
   ]
  },
  {
   "cell_type": "code",
   "execution_count": 34,
   "metadata": {},
   "outputs": [],
   "source": [
    "#According to the cross-validated MCC scores, the random forest is the best-performing model, so now let's evaluate its performance on the test set.\n",
    "from sklearn.metrics import confusion_matrix, classification_report, matthews_corrcoef, cohen_kappa_score, accuracy_score, average_precision_score, roc_auc_score"
   ]
  },
  {
   "cell_type": "code",
   "execution_count": 35,
   "metadata": {},
   "outputs": [
    {
     "name": "stdout",
     "output_type": "stream",
     "text": [
      "      email\n",
      "0       226\n",
      "1      1529\n",
      "2      1522\n",
      "3      1505\n",
      "4       532\n",
      "...     ...\n",
      "2995     88\n",
      "2996    452\n",
      "2997    788\n",
      "2998    798\n",
      "2999    404\n",
      "\n",
      "[2999 rows x 1 columns]\n",
      "\n"
     ]
    }
   ],
   "source": [
    "X = df.drop(labels='label', axis=1)\n",
    "#Response variable\n",
    "y = df.loc[:,'label'] \n",
    "print(X)\n",
    "print()\n"
   ]
  },
  {
   "cell_type": "code",
   "execution_count": 36,
   "metadata": {},
   "outputs": [],
   "source": [
    "#We'll use a test size of 30%. We also stratify the split on the response variable, which is very important to do because there are so few fraudulent transactions.\n",
    "from sklearn.model_selection import train_test_split\n",
    "X_train, X_test, y_train, y_test = train_test_split(X, y, test_size=0.3, random_state=1, stratify=y)"
   ]
  },
  {
   "cell_type": "markdown",
   "metadata": {},
   "source": [
    "RandomForestClassifier :"
   ]
  },
  {
   "cell_type": "code",
   "execution_count": 37,
   "metadata": {},
   "outputs": [
    {
     "name": "stdout",
     "output_type": "stream",
     "text": [
      "\n",
      "Accuracy result of Random Forest Classifier  is: 88.88888888888889\n",
      "\n",
      "\n",
      "Classification report of Random Forest Classifier : Results:\n",
      "\n",
      "              precision    recall  f1-score   support\n",
      "\n",
      "           0       0.95      0.92      0.93       750\n",
      "           1       0.65      0.74      0.69       150\n",
      "\n",
      "    accuracy                           0.89       900\n",
      "   macro avg       0.80      0.83      0.81       900\n",
      "weighted avg       0.90      0.89      0.89       900\n",
      "\n",
      "Confusion Matrix result of Random Forest Classifier : is:\n",
      " [[689  61]\n",
      " [ 39 111]]\n",
      "\n",
      "Sensitivity :  0.9186666666666666\n",
      "\n",
      "Specificity :  0.74\n"
     ]
    }
   ],
   "source": [
    "from sklearn.ensemble import RandomForestClassifier\n",
    "rfc = RandomForestClassifier()\n",
    "\n",
    "rfc.fit(X_train,y_train)\n",
    "predictR = rfc.predict(X_test)\n",
    "print(\"\")\n",
    "x = (accuracy_score(y_test,predictR)*100)\n",
    "print('Accuracy result of Random Forest Classifier  is:', x)\n",
    "print(\"\")\n",
    "\n",
    "print(\"\")\n",
    "print('Classification report of Random Forest Classifier : Results:')\n",
    "print(\"\")\n",
    "\n",
    "print(classification_report(y_test,predictR))\n",
    "xd = (accuracy_score(y_test,predictR)*100)\n",
    "\n",
    "\n",
    "cm2=confusion_matrix(y_test,predictR)\n",
    "print('Confusion Matrix result of Random Forest Classifier : is:\\n', confusion_matrix(y_test,predictR))\n",
    "print(\"\")\n",
    "\n",
    "sensitivity1 = cm2[0,0]/(cm2[0,0]+cm2[0,1])\n",
    "print('Sensitivity : ', sensitivity1 )\n",
    "print(\"\")\n",
    "specificity1 = cm2[1,1]/(cm2[1,0]+cm2[1,1])\n",
    "print('Specificity : ', specificity1)"
   ]
  },
  {
   "cell_type": "markdown",
   "metadata": {},
   "source": [
    "Logistic Regression:"
   ]
  },
  {
   "cell_type": "code",
   "execution_count": 38,
   "metadata": {},
   "outputs": [
    {
     "name": "stdout",
     "output_type": "stream",
     "text": [
      "\n",
      "Accuracy result of Logistic Regression is: 83.33333333333334\n",
      "\n",
      "\n",
      "Classification report of Logistic Regression : Results:\n",
      "\n",
      "              precision    recall  f1-score   support\n",
      "\n",
      "           0       0.83      1.00      0.91       750\n",
      "           1       0.00      0.00      0.00       150\n",
      "\n",
      "    accuracy                           0.83       900\n",
      "   macro avg       0.42      0.50      0.45       900\n",
      "weighted avg       0.69      0.83      0.76       900\n",
      "\n",
      "Confusion Matrix result of Logistic Regression : is:\n",
      " [[750   0]\n",
      " [150   0]]\n",
      "\n",
      "Sensitivity :  1.0\n",
      "\n",
      "Specificity :  0.0\n"
     ]
    }
   ],
   "source": [
    "from sklearn.linear_model import LogisticRegression\n",
    "logR= LogisticRegression()\n",
    "logR.fit(X_train,y_train)\n",
    "predictR = logR.predict(X_test)\n",
    "print(\"\")\n",
    "x = (accuracy_score(y_test,predictR)*100)\n",
    "print('Accuracy result of Logistic Regression is:', x)\n",
    "print(\"\")\n",
    "\n",
    "print(\"\")\n",
    "print('Classification report of Logistic Regression : Results:')\n",
    "print(\"\")\n",
    "\n",
    "print(classification_report(y_test,predictR))\n",
    "xl = (accuracy_score(y_test,predictR)*100)\n",
    "\n",
    "\n",
    "cm2=confusion_matrix(y_test,predictR)\n",
    "print('Confusion Matrix result of Logistic Regression : is:\\n', confusion_matrix(y_test,predictR))\n",
    "print(\"\")\n",
    "\n",
    "sensitivity1 = cm2[0,0]/(cm2[0,0]+cm2[0,1])\n",
    "print('Sensitivity : ', sensitivity1 )\n",
    "print(\"\")\n",
    "specificity1 = cm2[1,1]/(cm2[1,0]+cm2[1,1])\n",
    "print('Specificity : ', specificity1)"
   ]
  },
  {
   "cell_type": "code",
   "execution_count": 39,
   "metadata": {},
   "outputs": [
    {
     "name": "stdout",
     "output_type": "stream",
     "text": [
      "\n",
      "Accuracy result of XGBClassifier is: 88.88888888888889\n",
      "\n",
      "\n",
      "Classification report of XGBClassifier : Results:\n",
      "\n",
      "              precision    recall  f1-score   support\n",
      "\n",
      "           0       0.92      0.95      0.93       750\n",
      "           1       0.69      0.60      0.64       150\n",
      "\n",
      "    accuracy                           0.89       900\n",
      "   macro avg       0.81      0.77      0.79       900\n",
      "weighted avg       0.88      0.89      0.89       900\n",
      "\n",
      "Confusion Matrix result of XGBClassifier : is:\n",
      " [[710  40]\n",
      " [ 60  90]]\n",
      "\n",
      "Sensitivity :  0.9466666666666667\n",
      "\n",
      "Specificity :  0.6\n"
     ]
    }
   ],
   "source": [
    "from xgboost import XGBClassifier\n",
    "xgb = XGBClassifier()\n",
    "xgb.fit(X_train,y_train)\n",
    "predictR = xgb.predict(X_test)\n",
    "print(\"\")\n",
    "x = (accuracy_score(y_test,predictR)*100)\n",
    "print('Accuracy result of XGBClassifier is:', x)\n",
    "print(\"\")\n",
    "\n",
    "print(\"\")\n",
    "print('Classification report of XGBClassifier : Results:')\n",
    "print(\"\")\n",
    "\n",
    "print(classification_report(y_test,predictR))\n",
    "xg = (accuracy_score(y_test,predictR)*100)\n",
    "\n",
    "\n",
    "cm2=confusion_matrix(y_test,predictR)\n",
    "print('Confusion Matrix result of XGBClassifier : is:\\n', confusion_matrix(y_test,predictR))\n",
    "print(\"\")\n",
    "\n",
    "sensitivity1 = cm2[0,0]/(cm2[0,0]+cm2[0,1])\n",
    "print('Sensitivity : ', sensitivity1 )\n",
    "print(\"\")\n",
    "specificity1 = cm2[1,1]/(cm2[1,0]+cm2[1,1])\n",
    "print('Specificity : ', specificity1)"
   ]
  },
  {
   "cell_type": "code",
   "execution_count": 42,
   "metadata": {},
   "outputs": [],
   "source": [
    "def graph():\n",
    "    import matplotlib.pyplot as plt\n",
    "    data=[xd,xl,xg]\n",
    "    alg=\"RFC\",\"LR\",\"XG\"\n",
    "    plt.figure(figsize=(10,5))\n",
    "    b=plt.bar(alg,data,color=(\"black\",\"gray\",\"red\"))\n",
    "    plt.title(\"Prediction of Opinion ham or spam using ML\",fontsize=15)\n",
    "    plt.legend(b,data,fontsize=12)\n",
    "    plt.savefig('comp.png')"
   ]
  },
  {
   "cell_type": "code",
   "execution_count": 43,
   "metadata": {
    "scrolled": true
   },
   "outputs": [
    {
     "data": {
      "image/png": "[encoded data removed]",
      "text/plain": [
       "<Figure size 720x360 with 1 Axes>"
      ]
     },
     "metadata": {
      "needs_background": "light"
     },
     "output_type": "display_data"
    }
   ],
   "source": [
    "graph()"
   ]
  },
  {
   "cell_type": "code",
   "execution_count": null,
   "metadata": {},
   "outputs": [],
   "source": []
  }
 ],
 "metadata": {
  "kernelspec": {
   "display_name": "Python 3 (ipykernel)",
   "language": "python",
   "name": "python3"
  },
  "language_info": {
   "codemirror_mode": {
    "name": "ipython",
    "version": 3
   },
   "file_extension": ".py",
   "mimetype": "text/x-python",
   "name": "python",
   "nbconvert_exporter": "python",
   "pygments_lexer": "ipython3",
   "version": "3.9.7"
  }
 },
 "nbformat": 4,
 "nbformat_minor": 2
}
